{
 "cells": [
  {
   "cell_type": "code",
   "execution_count": 5,
   "id": "d2a31093",
   "metadata": {},
   "outputs": [],
   "source": [
    "import pandas as pd\n",
    "import numpy as np\n",
    "import matplotlib.pyplot as plt\n",
    "import os\n",
    "import seaborn as sb\n",
    "from sklearn.model_selection import train_test_split\n",
    "from sklearn.linear_model import LinearRegression\n",
    "from sklearn.metrics import r2_score"
   ]
  },
  {
   "cell_type": "code",
   "execution_count": 6,
   "id": "b1f1d544",
   "metadata": {},
   "outputs": [
    {
     "data": {
      "text/plain": [
       "<module 'os' from 'C:\\\\Users\\\\GLADYS\\\\anaconda3\\\\lib\\\\os.py'>"
      ]
     },
     "execution_count": 6,
     "metadata": {},
     "output_type": "execute_result"
    }
   ],
   "source": [
    "os"
   ]
  },
  {
   "cell_type": "code",
   "execution_count": 7,
   "id": "881c9c23",
   "metadata": {
    "scrolled": true
   },
   "outputs": [
    {
     "data": {
      "text/html": [
       "<div>\n",
       "<style scoped>\n",
       "    .dataframe tbody tr th:only-of-type {\n",
       "        vertical-align: middle;\n",
       "    }\n",
       "\n",
       "    .dataframe tbody tr th {\n",
       "        vertical-align: top;\n",
       "    }\n",
       "\n",
       "    .dataframe thead th {\n",
       "        text-align: right;\n",
       "    }\n",
       "</style>\n",
       "<table border=\"1\" class=\"dataframe\">\n",
       "  <thead>\n",
       "    <tr style=\"text-align: right;\">\n",
       "      <th></th>\n",
       "      <th>Id</th>\n",
       "      <th>MSSubClass</th>\n",
       "      <th>MSZoning</th>\n",
       "      <th>LotArea</th>\n",
       "      <th>LotConfig</th>\n",
       "      <th>BldgType</th>\n",
       "      <th>OverallCond</th>\n",
       "      <th>YearBuilt</th>\n",
       "      <th>YearRemodAdd</th>\n",
       "      <th>Exterior1st</th>\n",
       "      <th>BsmtFinSF2</th>\n",
       "      <th>TotalBsmtSF</th>\n",
       "      <th>SalePrice</th>\n",
       "    </tr>\n",
       "  </thead>\n",
       "  <tbody>\n",
       "    <tr>\n",
       "      <th>0</th>\n",
       "      <td>0</td>\n",
       "      <td>60</td>\n",
       "      <td>RL</td>\n",
       "      <td>8450</td>\n",
       "      <td>Inside</td>\n",
       "      <td>1Fam</td>\n",
       "      <td>5</td>\n",
       "      <td>2003</td>\n",
       "      <td>2003</td>\n",
       "      <td>VinylSd</td>\n",
       "      <td>0.0</td>\n",
       "      <td>856.0</td>\n",
       "      <td>208500.0</td>\n",
       "    </tr>\n",
       "    <tr>\n",
       "      <th>1</th>\n",
       "      <td>1</td>\n",
       "      <td>20</td>\n",
       "      <td>RL</td>\n",
       "      <td>9600</td>\n",
       "      <td>FR2</td>\n",
       "      <td>1Fam</td>\n",
       "      <td>8</td>\n",
       "      <td>1976</td>\n",
       "      <td>1976</td>\n",
       "      <td>MetalSd</td>\n",
       "      <td>0.0</td>\n",
       "      <td>1262.0</td>\n",
       "      <td>181500.0</td>\n",
       "    </tr>\n",
       "    <tr>\n",
       "      <th>2</th>\n",
       "      <td>2</td>\n",
       "      <td>60</td>\n",
       "      <td>RL</td>\n",
       "      <td>11250</td>\n",
       "      <td>Inside</td>\n",
       "      <td>1Fam</td>\n",
       "      <td>5</td>\n",
       "      <td>2001</td>\n",
       "      <td>2002</td>\n",
       "      <td>VinylSd</td>\n",
       "      <td>0.0</td>\n",
       "      <td>920.0</td>\n",
       "      <td>223500.0</td>\n",
       "    </tr>\n",
       "    <tr>\n",
       "      <th>3</th>\n",
       "      <td>3</td>\n",
       "      <td>70</td>\n",
       "      <td>RL</td>\n",
       "      <td>9550</td>\n",
       "      <td>Corner</td>\n",
       "      <td>1Fam</td>\n",
       "      <td>5</td>\n",
       "      <td>1915</td>\n",
       "      <td>1970</td>\n",
       "      <td>Wd Sdng</td>\n",
       "      <td>0.0</td>\n",
       "      <td>756.0</td>\n",
       "      <td>140000.0</td>\n",
       "    </tr>\n",
       "    <tr>\n",
       "      <th>4</th>\n",
       "      <td>4</td>\n",
       "      <td>60</td>\n",
       "      <td>RL</td>\n",
       "      <td>14260</td>\n",
       "      <td>FR2</td>\n",
       "      <td>1Fam</td>\n",
       "      <td>5</td>\n",
       "      <td>2000</td>\n",
       "      <td>2000</td>\n",
       "      <td>VinylSd</td>\n",
       "      <td>0.0</td>\n",
       "      <td>1145.0</td>\n",
       "      <td>250000.0</td>\n",
       "    </tr>\n",
       "    <tr>\n",
       "      <th>...</th>\n",
       "      <td>...</td>\n",
       "      <td>...</td>\n",
       "      <td>...</td>\n",
       "      <td>...</td>\n",
       "      <td>...</td>\n",
       "      <td>...</td>\n",
       "      <td>...</td>\n",
       "      <td>...</td>\n",
       "      <td>...</td>\n",
       "      <td>...</td>\n",
       "      <td>...</td>\n",
       "      <td>...</td>\n",
       "      <td>...</td>\n",
       "    </tr>\n",
       "    <tr>\n",
       "      <th>2914</th>\n",
       "      <td>2914</td>\n",
       "      <td>160</td>\n",
       "      <td>RM</td>\n",
       "      <td>1936</td>\n",
       "      <td>Inside</td>\n",
       "      <td>Twnhs</td>\n",
       "      <td>7</td>\n",
       "      <td>1970</td>\n",
       "      <td>1970</td>\n",
       "      <td>CemntBd</td>\n",
       "      <td>0.0</td>\n",
       "      <td>546.0</td>\n",
       "      <td>NaN</td>\n",
       "    </tr>\n",
       "    <tr>\n",
       "      <th>2915</th>\n",
       "      <td>2915</td>\n",
       "      <td>160</td>\n",
       "      <td>RM</td>\n",
       "      <td>1894</td>\n",
       "      <td>Inside</td>\n",
       "      <td>TwnhsE</td>\n",
       "      <td>5</td>\n",
       "      <td>1970</td>\n",
       "      <td>1970</td>\n",
       "      <td>CemntBd</td>\n",
       "      <td>0.0</td>\n",
       "      <td>546.0</td>\n",
       "      <td>NaN</td>\n",
       "    </tr>\n",
       "    <tr>\n",
       "      <th>2916</th>\n",
       "      <td>2916</td>\n",
       "      <td>20</td>\n",
       "      <td>RL</td>\n",
       "      <td>20000</td>\n",
       "      <td>Inside</td>\n",
       "      <td>1Fam</td>\n",
       "      <td>7</td>\n",
       "      <td>1960</td>\n",
       "      <td>1996</td>\n",
       "      <td>VinylSd</td>\n",
       "      <td>0.0</td>\n",
       "      <td>1224.0</td>\n",
       "      <td>NaN</td>\n",
       "    </tr>\n",
       "    <tr>\n",
       "      <th>2917</th>\n",
       "      <td>2917</td>\n",
       "      <td>85</td>\n",
       "      <td>RL</td>\n",
       "      <td>10441</td>\n",
       "      <td>Inside</td>\n",
       "      <td>1Fam</td>\n",
       "      <td>5</td>\n",
       "      <td>1992</td>\n",
       "      <td>1992</td>\n",
       "      <td>HdBoard</td>\n",
       "      <td>0.0</td>\n",
       "      <td>912.0</td>\n",
       "      <td>NaN</td>\n",
       "    </tr>\n",
       "    <tr>\n",
       "      <th>2918</th>\n",
       "      <td>2918</td>\n",
       "      <td>60</td>\n",
       "      <td>RL</td>\n",
       "      <td>9627</td>\n",
       "      <td>Inside</td>\n",
       "      <td>1Fam</td>\n",
       "      <td>5</td>\n",
       "      <td>1993</td>\n",
       "      <td>1994</td>\n",
       "      <td>HdBoard</td>\n",
       "      <td>0.0</td>\n",
       "      <td>996.0</td>\n",
       "      <td>NaN</td>\n",
       "    </tr>\n",
       "  </tbody>\n",
       "</table>\n",
       "<p>2919 rows × 13 columns</p>\n",
       "</div>"
      ],
      "text/plain": [
       "        Id  MSSubClass MSZoning  LotArea LotConfig BldgType  OverallCond  \\\n",
       "0        0          60       RL     8450    Inside     1Fam            5   \n",
       "1        1          20       RL     9600       FR2     1Fam            8   \n",
       "2        2          60       RL    11250    Inside     1Fam            5   \n",
       "3        3          70       RL     9550    Corner     1Fam            5   \n",
       "4        4          60       RL    14260       FR2     1Fam            5   \n",
       "...    ...         ...      ...      ...       ...      ...          ...   \n",
       "2914  2914         160       RM     1936    Inside    Twnhs            7   \n",
       "2915  2915         160       RM     1894    Inside   TwnhsE            5   \n",
       "2916  2916          20       RL    20000    Inside     1Fam            7   \n",
       "2917  2917          85       RL    10441    Inside     1Fam            5   \n",
       "2918  2918          60       RL     9627    Inside     1Fam            5   \n",
       "\n",
       "      YearBuilt  YearRemodAdd Exterior1st  BsmtFinSF2  TotalBsmtSF  SalePrice  \n",
       "0          2003          2003     VinylSd         0.0        856.0   208500.0  \n",
       "1          1976          1976     MetalSd         0.0       1262.0   181500.0  \n",
       "2          2001          2002     VinylSd         0.0        920.0   223500.0  \n",
       "3          1915          1970     Wd Sdng         0.0        756.0   140000.0  \n",
       "4          2000          2000     VinylSd         0.0       1145.0   250000.0  \n",
       "...         ...           ...         ...         ...          ...        ...  \n",
       "2914       1970          1970     CemntBd         0.0        546.0        NaN  \n",
       "2915       1970          1970     CemntBd         0.0        546.0        NaN  \n",
       "2916       1960          1996     VinylSd         0.0       1224.0        NaN  \n",
       "2917       1992          1992     HdBoard         0.0        912.0        NaN  \n",
       "2918       1993          1994     HdBoard         0.0        996.0        NaN  \n",
       "\n",
       "[2919 rows x 13 columns]"
      ]
     },
     "execution_count": 7,
     "metadata": {},
     "output_type": "execute_result"
    }
   ],
   "source": [
    "dataset=pd.read_excel(r\"C:\\Users\\GLADYS\\Downloads\\HousePricePrediction.xlsx\")\n",
    "dataset"
   ]
  },
  {
   "cell_type": "code",
   "execution_count": 8,
   "id": "ea7513c1",
   "metadata": {},
   "outputs": [
    {
     "data": {
      "text/plain": [
       "Id                 0\n",
       "MSSubClass         0\n",
       "MSZoning           4\n",
       "LotArea            0\n",
       "LotConfig          0\n",
       "BldgType           0\n",
       "OverallCond        0\n",
       "YearBuilt          0\n",
       "YearRemodAdd       0\n",
       "Exterior1st        1\n",
       "BsmtFinSF2         1\n",
       "TotalBsmtSF        1\n",
       "SalePrice       1459\n",
       "dtype: int64"
      ]
     },
     "execution_count": 8,
     "metadata": {},
     "output_type": "execute_result"
    }
   ],
   "source": [
    "dataset.isnull().sum()"
   ]
  },
  {
   "cell_type": "code",
   "execution_count": 9,
   "id": "cd9d4c1f",
   "metadata": {
    "scrolled": true
   },
   "outputs": [
    {
     "data": {
      "text/html": [
       "<div>\n",
       "<style scoped>\n",
       "    .dataframe tbody tr th:only-of-type {\n",
       "        vertical-align: middle;\n",
       "    }\n",
       "\n",
       "    .dataframe tbody tr th {\n",
       "        vertical-align: top;\n",
       "    }\n",
       "\n",
       "    .dataframe thead th {\n",
       "        text-align: right;\n",
       "    }\n",
       "</style>\n",
       "<table border=\"1\" class=\"dataframe\">\n",
       "  <thead>\n",
       "    <tr style=\"text-align: right;\">\n",
       "      <th></th>\n",
       "      <th>Id</th>\n",
       "      <th>MSSubClass</th>\n",
       "      <th>MSZoning</th>\n",
       "      <th>LotArea</th>\n",
       "      <th>LotConfig</th>\n",
       "      <th>BldgType</th>\n",
       "      <th>OverallCond</th>\n",
       "      <th>YearBuilt</th>\n",
       "      <th>YearRemodAdd</th>\n",
       "      <th>Exterior1st</th>\n",
       "      <th>BsmtFinSF2</th>\n",
       "      <th>TotalBsmtSF</th>\n",
       "      <th>SalePrice</th>\n",
       "    </tr>\n",
       "  </thead>\n",
       "  <tbody>\n",
       "    <tr>\n",
       "      <th>0</th>\n",
       "      <td>0</td>\n",
       "      <td>60</td>\n",
       "      <td>RL</td>\n",
       "      <td>8450</td>\n",
       "      <td>Inside</td>\n",
       "      <td>1Fam</td>\n",
       "      <td>5</td>\n",
       "      <td>2003</td>\n",
       "      <td>2003</td>\n",
       "      <td>VinylSd</td>\n",
       "      <td>0.0</td>\n",
       "      <td>856.0</td>\n",
       "      <td>208500.0</td>\n",
       "    </tr>\n",
       "    <tr>\n",
       "      <th>1</th>\n",
       "      <td>1</td>\n",
       "      <td>20</td>\n",
       "      <td>RL</td>\n",
       "      <td>9600</td>\n",
       "      <td>FR2</td>\n",
       "      <td>1Fam</td>\n",
       "      <td>8</td>\n",
       "      <td>1976</td>\n",
       "      <td>1976</td>\n",
       "      <td>MetalSd</td>\n",
       "      <td>0.0</td>\n",
       "      <td>1262.0</td>\n",
       "      <td>181500.0</td>\n",
       "    </tr>\n",
       "    <tr>\n",
       "      <th>2</th>\n",
       "      <td>2</td>\n",
       "      <td>60</td>\n",
       "      <td>RL</td>\n",
       "      <td>11250</td>\n",
       "      <td>Inside</td>\n",
       "      <td>1Fam</td>\n",
       "      <td>5</td>\n",
       "      <td>2001</td>\n",
       "      <td>2002</td>\n",
       "      <td>VinylSd</td>\n",
       "      <td>0.0</td>\n",
       "      <td>920.0</td>\n",
       "      <td>223500.0</td>\n",
       "    </tr>\n",
       "    <tr>\n",
       "      <th>3</th>\n",
       "      <td>3</td>\n",
       "      <td>70</td>\n",
       "      <td>RL</td>\n",
       "      <td>9550</td>\n",
       "      <td>Corner</td>\n",
       "      <td>1Fam</td>\n",
       "      <td>5</td>\n",
       "      <td>1915</td>\n",
       "      <td>1970</td>\n",
       "      <td>Wd Sdng</td>\n",
       "      <td>0.0</td>\n",
       "      <td>756.0</td>\n",
       "      <td>140000.0</td>\n",
       "    </tr>\n",
       "    <tr>\n",
       "      <th>4</th>\n",
       "      <td>4</td>\n",
       "      <td>60</td>\n",
       "      <td>RL</td>\n",
       "      <td>14260</td>\n",
       "      <td>FR2</td>\n",
       "      <td>1Fam</td>\n",
       "      <td>5</td>\n",
       "      <td>2000</td>\n",
       "      <td>2000</td>\n",
       "      <td>VinylSd</td>\n",
       "      <td>0.0</td>\n",
       "      <td>1145.0</td>\n",
       "      <td>250000.0</td>\n",
       "    </tr>\n",
       "    <tr>\n",
       "      <th>5</th>\n",
       "      <td>5</td>\n",
       "      <td>50</td>\n",
       "      <td>RL</td>\n",
       "      <td>14115</td>\n",
       "      <td>Inside</td>\n",
       "      <td>1Fam</td>\n",
       "      <td>5</td>\n",
       "      <td>1993</td>\n",
       "      <td>1995</td>\n",
       "      <td>VinylSd</td>\n",
       "      <td>0.0</td>\n",
       "      <td>796.0</td>\n",
       "      <td>143000.0</td>\n",
       "    </tr>\n",
       "    <tr>\n",
       "      <th>6</th>\n",
       "      <td>6</td>\n",
       "      <td>20</td>\n",
       "      <td>RL</td>\n",
       "      <td>10084</td>\n",
       "      <td>Inside</td>\n",
       "      <td>1Fam</td>\n",
       "      <td>5</td>\n",
       "      <td>2004</td>\n",
       "      <td>2005</td>\n",
       "      <td>VinylSd</td>\n",
       "      <td>0.0</td>\n",
       "      <td>1686.0</td>\n",
       "      <td>307000.0</td>\n",
       "    </tr>\n",
       "    <tr>\n",
       "      <th>7</th>\n",
       "      <td>7</td>\n",
       "      <td>60</td>\n",
       "      <td>RL</td>\n",
       "      <td>10382</td>\n",
       "      <td>Corner</td>\n",
       "      <td>1Fam</td>\n",
       "      <td>6</td>\n",
       "      <td>1973</td>\n",
       "      <td>1973</td>\n",
       "      <td>HdBoard</td>\n",
       "      <td>32.0</td>\n",
       "      <td>1107.0</td>\n",
       "      <td>200000.0</td>\n",
       "    </tr>\n",
       "    <tr>\n",
       "      <th>8</th>\n",
       "      <td>8</td>\n",
       "      <td>50</td>\n",
       "      <td>RM</td>\n",
       "      <td>6120</td>\n",
       "      <td>Inside</td>\n",
       "      <td>1Fam</td>\n",
       "      <td>5</td>\n",
       "      <td>1931</td>\n",
       "      <td>1950</td>\n",
       "      <td>BrkFace</td>\n",
       "      <td>0.0</td>\n",
       "      <td>952.0</td>\n",
       "      <td>129900.0</td>\n",
       "    </tr>\n",
       "    <tr>\n",
       "      <th>9</th>\n",
       "      <td>9</td>\n",
       "      <td>190</td>\n",
       "      <td>RL</td>\n",
       "      <td>7420</td>\n",
       "      <td>Corner</td>\n",
       "      <td>2fmCon</td>\n",
       "      <td>6</td>\n",
       "      <td>1939</td>\n",
       "      <td>1950</td>\n",
       "      <td>MetalSd</td>\n",
       "      <td>0.0</td>\n",
       "      <td>991.0</td>\n",
       "      <td>118000.0</td>\n",
       "    </tr>\n",
       "  </tbody>\n",
       "</table>\n",
       "</div>"
      ],
      "text/plain": [
       "   Id  MSSubClass MSZoning  LotArea LotConfig BldgType  OverallCond  \\\n",
       "0   0          60       RL     8450    Inside     1Fam            5   \n",
       "1   1          20       RL     9600       FR2     1Fam            8   \n",
       "2   2          60       RL    11250    Inside     1Fam            5   \n",
       "3   3          70       RL     9550    Corner     1Fam            5   \n",
       "4   4          60       RL    14260       FR2     1Fam            5   \n",
       "5   5          50       RL    14115    Inside     1Fam            5   \n",
       "6   6          20       RL    10084    Inside     1Fam            5   \n",
       "7   7          60       RL    10382    Corner     1Fam            6   \n",
       "8   8          50       RM     6120    Inside     1Fam            5   \n",
       "9   9         190       RL     7420    Corner   2fmCon            6   \n",
       "\n",
       "   YearBuilt  YearRemodAdd Exterior1st  BsmtFinSF2  TotalBsmtSF  SalePrice  \n",
       "0       2003          2003     VinylSd         0.0        856.0   208500.0  \n",
       "1       1976          1976     MetalSd         0.0       1262.0   181500.0  \n",
       "2       2001          2002     VinylSd         0.0        920.0   223500.0  \n",
       "3       1915          1970     Wd Sdng         0.0        756.0   140000.0  \n",
       "4       2000          2000     VinylSd         0.0       1145.0   250000.0  \n",
       "5       1993          1995     VinylSd         0.0        796.0   143000.0  \n",
       "6       2004          2005     VinylSd         0.0       1686.0   307000.0  \n",
       "7       1973          1973     HdBoard        32.0       1107.0   200000.0  \n",
       "8       1931          1950     BrkFace         0.0        952.0   129900.0  \n",
       "9       1939          1950     MetalSd         0.0        991.0   118000.0  "
      ]
     },
     "execution_count": 9,
     "metadata": {},
     "output_type": "execute_result"
    }
   ],
   "source": [
    "dataset.head(10)"
   ]
  },
  {
   "cell_type": "code",
   "execution_count": 10,
   "id": "bbb69c68",
   "metadata": {},
   "outputs": [
    {
     "data": {
      "text/plain": [
       "(2919, 13)"
      ]
     },
     "execution_count": 10,
     "metadata": {},
     "output_type": "execute_result"
    }
   ],
   "source": [
    "dataset.shape"
   ]
  },
  {
   "cell_type": "code",
   "execution_count": 11,
   "id": "6915409e",
   "metadata": {},
   "outputs": [
    {
     "data": {
      "text/plain": [
       "Id                int64\n",
       "MSSubClass        int64\n",
       "MSZoning         object\n",
       "LotArea           int64\n",
       "LotConfig        object\n",
       "BldgType         object\n",
       "OverallCond       int64\n",
       "YearBuilt         int64\n",
       "YearRemodAdd      int64\n",
       "Exterior1st      object\n",
       "BsmtFinSF2      float64\n",
       "TotalBsmtSF     float64\n",
       "SalePrice       float64\n",
       "dtype: object"
      ]
     },
     "execution_count": 11,
     "metadata": {},
     "output_type": "execute_result"
    }
   ],
   "source": [
    "dataset.dtypes"
   ]
  },
  {
   "cell_type": "code",
   "execution_count": 12,
   "id": "0ca9d345",
   "metadata": {},
   "outputs": [
    {
     "data": {
      "image/png": "[encoded data removed]",
      "text/plain": [
       "<Figure size 432x288 with 1 Axes>"
      ]
     },
     "metadata": {
      "needs_background": "light"
     },
     "output_type": "display_data"
    }
   ],
   "source": [
    "plt.scatter(dataset['YearBuilt'],dataset['SalePrice'])\n",
    "plt.xlabel('YearBuilt',fontsize=14)\n",
    "plt.ylabel('SalePrice',fontsize=14)\n",
    "plt.show()"
   ]
  },
  {
   "cell_type": "code",
   "execution_count": 13,
   "id": "846be733",
   "metadata": {},
   "outputs": [
    {
     "data": {
      "image/png": "[encoded data removed]",
      "text/plain": [
       "<Figure size 432x288 with 1 Axes>"
      ]
     },
     "metadata": {
      "needs_background": "light"
     },
     "output_type": "display_data"
    }
   ],
   "source": [
    "plt.scatter(dataset['YearRemodAdd'],dataset['SalePrice'])\n",
    "plt.xlabel('YearRemodAdd',fontsize=14)\n",
    "plt.ylabel('SalePrice',fontsize=14)\n",
    "plt.show()"
   ]
  },
  {
   "cell_type": "code",
   "execution_count": 14,
   "id": "8f1d6d53",
   "metadata": {},
   "outputs": [
    {
     "data": {
      "image/png": "[encoded data removed]",
      "text/plain": [
       "<Figure size 432x288 with 1 Axes>"
      ]
     },
     "metadata": {
      "needs_background": "light"
     },
     "output_type": "display_data"
    }
   ],
   "source": [
    "plt.bar(dataset['MSSubClass'],dataset['SalePrice'])\n",
    "plt.xlabel('MSSubClass',fontsize=14)\n",
    "plt.ylabel('SalePrice',fontsize=14)\n",
    "plt.show()"
   ]
  },
  {
   "cell_type": "code",
   "execution_count": 15,
   "id": "b6a2a725",
   "metadata": {},
   "outputs": [
    {
     "data": {
      "image/png": "[encoded data removed]",
      "text/plain": [
       "<Figure size 432x288 with 1 Axes>"
      ]
     },
     "metadata": {
      "needs_background": "light"
     },
     "output_type": "display_data"
    }
   ],
   "source": [
    "plt.scatter(dataset['LotArea'],dataset['SalePrice'])\n",
    "plt.xlabel('LotArea',fontsize=14)\n",
    "plt.ylabel('SalePrice',fontsize=14)\n",
    "plt.show()"
   ]
  },
  {
   "cell_type": "code",
   "execution_count": 16,
   "id": "a86fc5d8",
   "metadata": {},
   "outputs": [
    {
     "data": {
      "image/png": "[encoded data removed]",
      "text/plain": [
       "<Figure size 720x360 with 2 Axes>"
      ]
     },
     "metadata": {
      "needs_background": "light"
     },
     "output_type": "display_data"
    }
   ],
   "source": [
    "plt.figure(figsize=(10,5))\n",
    "sb.heatmap(dataset.corr(),cmap='cubehelix',fmt='.2f',linewidths=2,annot=True)\n",
    "plt.title(\"Correlation Table\")\n",
    "plt.show()"
   ]
  },
  {
   "cell_type": "code",
   "execution_count": 17,
   "id": "2503efa6",
   "metadata": {},
   "outputs": [],
   "source": [
    "mean_sale_price = dataset['SalePrice'].mean()\n",
    "dataset['SalePrice'].fillna(mean_sale_price,inplace=True)\n"
   ]
  },
  {
   "cell_type": "code",
   "execution_count": 18,
   "id": "1de69816",
   "metadata": {},
   "outputs": [],
   "source": [
    "mdataset = dataset.dropna()\n"
   ]
  },
  {
   "cell_type": "code",
   "execution_count": 19,
   "id": "4d241df9",
   "metadata": {},
   "outputs": [
    {
     "data": {
      "text/plain": [
       "Id              0\n",
       "MSSubClass      0\n",
       "MSZoning        0\n",
       "LotArea         0\n",
       "LotConfig       0\n",
       "BldgType        0\n",
       "OverallCond     0\n",
       "YearBuilt       0\n",
       "YearRemodAdd    0\n",
       "Exterior1st     0\n",
       "BsmtFinSF2      0\n",
       "TotalBsmtSF     0\n",
       "SalePrice       0\n",
       "dtype: int64"
      ]
     },
     "execution_count": 19,
     "metadata": {},
     "output_type": "execute_result"
    }
   ],
   "source": [
    "mdataset.isnull().sum()"
   ]
  },
  {
   "cell_type": "code",
   "execution_count": 20,
   "id": "74b0c437",
   "metadata": {},
   "outputs": [
    {
     "name": "stdout",
     "output_type": "stream",
     "text": [
      "Categorical variables:\n",
      "['MSZoning', 'LotConfig', 'BldgType', 'Exterior1st']\n",
      "No. of. categorical features:  4\n"
     ]
    }
   ],
   "source": [
    "from sklearn.preprocessing import OneHotEncoder\n",
    " \n",
    "s = (mdataset.dtypes == 'object')\n",
    "object_cols = list(s[s].index)\n",
    "print(\"Categorical variables:\")\n",
    "print(object_cols)\n",
    "print('No. of. categorical features: ',\n",
    "      len(object_cols))"
   ]
  },
  {
   "cell_type": "code",
   "execution_count": 24,
   "id": "d048de62",
   "metadata": {},
   "outputs": [],
   "source": [
    "OH_encoder = OneHotEncoder(sparse=False)\n",
    "OH_cols = pd.DataFrame(OH_encoder.fit_transform(mdataset[object_cols]))\n",
    "OH_cols.index = mdataset.index\n",
    "OH_cols.columns = OH_encoder.get_feature_names_out()\n",
    "smdataset = mdataset.drop(object_cols, axis=1)\n",
    "smdataset = pd.concat([smdataset, OH_cols], axis=1)"
   ]
  },
  {
   "cell_type": "code",
   "execution_count": 25,
   "id": "8b2b6423",
   "metadata": {},
   "outputs": [],
   "source": [
    "x=smdataset.drop(['SalePrice'],axis=1)\n",
    "y=smdataset['SalePrice']"
   ]
  },
  {
   "cell_type": "code",
   "execution_count": 26,
   "id": "bcf3091b",
   "metadata": {},
   "outputs": [],
   "source": [
    "x_train,x_test,y_train,y_test=train_test_split(x,y,test_size=0.2)"
   ]
  },
  {
   "cell_type": "code",
   "execution_count": 27,
   "id": "d6c6fd11",
   "metadata": {},
   "outputs": [
    {
     "data": {
      "text/plain": [
       "LinearRegression()"
      ]
     },
     "execution_count": 27,
     "metadata": {},
     "output_type": "execute_result"
    }
   ],
   "source": [
    "LiRe=LinearRegression()\n",
    "LiRe.fit(x_train,y_train)"
   ]
  },
  {
   "cell_type": "code",
   "execution_count": 28,
   "id": "f6ecb820",
   "metadata": {},
   "outputs": [
    {
     "name": "stdout",
     "output_type": "stream",
     "text": [
      "[226288.88992179 181697.51833744 190940.73341665 195503.19404069\n",
      " 183033.92774973 192176.81217403 208788.43224391 232017.24587715\n",
      " 145870.04576632 190517.9379908  209349.87613751 187339.88433649\n",
      " 212189.36722813 211129.41816332 196360.1834005  201993.0624039\n",
      " 159187.85833197 199330.8041785  139663.55312623 153029.47768896\n",
      " 174239.73520968 213982.31674074 195735.36808806 171109.21307807\n",
      " 284851.46841295 186871.22018688 208547.58302824 230883.43763157\n",
      " 208024.99453443 171175.10401082 171420.41543826 143408.30117561\n",
      " 203014.05526353 167180.55001082 204632.26658558 160792.40977608\n",
      " 153264.98058816 192983.93025172 164796.80469658 173848.89438833\n",
      " 167468.70640377 203082.74751672 185966.16015725 221307.96632601\n",
      " 144855.78096407 170403.39722721 169236.95121623 228135.23886038\n",
      " 168967.76178762 194782.52885784 218693.93723932 204647.08074987\n",
      " 200201.56630644 250344.50669458 218271.98287204 217447.65314178\n",
      " 164578.27458305 207655.45559567 184970.73296223 134598.51737979\n",
      " 200563.41056948 138350.55135528 129531.94884219 150724.89138142\n",
      " 189507.89630693 198322.39789692 184537.76288546 176252.86763659\n",
      " 158817.18176365 229612.65120904 166157.96522254 226882.70128691\n",
      " 265042.99996159 188090.01367285 185364.89955728 142571.67912138\n",
      " 208992.81255988 169366.78889627 192596.88988995 190653.38428479\n",
      " 172406.35898517 169775.22694388 189639.53110638 166575.33892082\n",
      " 173308.62647337 173638.49242096 233783.15728255 139382.02793784\n",
      " 158066.17301606 137144.00885583 129305.47282133 212387.06338343\n",
      " 150495.18998101 126591.96147535 196604.70192377 183645.87000823\n",
      " 157990.45970282 178590.42315052 121472.28770531 143783.9409742\n",
      " 166015.59443651 230774.37225893 173747.0837382  187492.78765393\n",
      " 177046.79496091 211829.61616774 241128.50823604 170607.85744405\n",
      " 147660.07234032 151777.93656107 163742.59898549 162650.78678865\n",
      " 193822.89076385 161893.29456972 188665.02391641 149380.57454527\n",
      " 200336.78354169 201342.55421616 179033.38974883 189109.4283944\n",
      " 266732.60693775 189356.18015168 189952.77273267 199546.53335507\n",
      " 150878.25660893 131365.95190914 170542.54588488 162465.44703023\n",
      " 158778.29958174 122765.70573324 169890.62001684 216849.02033463\n",
      " 233714.32378813 220912.3650112  214814.74638305 173817.73969036\n",
      " 219910.4300277  138860.28298536 150677.91513942 178267.05000827\n",
      " 186531.27193707 206172.30565249 156963.56784384 199978.2899433\n",
      " 194663.24336815 167886.61294812 222971.9778881  151320.65424529\n",
      " 254333.60474143 154639.64360353 204906.74929506 102332.7872922\n",
      " 200198.19236341 257008.72118868 129487.74496405 141021.27606402\n",
      " 196823.84841389 176472.02853863 198036.81762291 168959.90559416\n",
      " 156802.98827722 158691.29978058 202922.06882829 108713.54999313\n",
      " 203274.83853957 150931.34271667 165877.31502298 140088.59411811\n",
      " 157254.24209583 165333.55950532 208291.79389351 206384.37024654\n",
      " 169291.67737314 175658.21480877 152390.29982003 205178.66258677\n",
      " 143431.83920938 212831.88796075 223302.60526741 189896.36303011\n",
      " 213354.02620899 191276.34287206 154806.24060749 183199.00479888\n",
      " 194455.80787007 184514.67935295 128244.56293546 191993.34142062\n",
      " 202657.95184014 210126.16233853 196227.55080282 196110.92867384\n",
      " 164334.58223162 160433.43296434 200486.61266981 161007.01721501\n",
      " 161054.13447989 170456.94133801 157292.20634655 112732.02627708\n",
      " 225193.529048   168259.62173361 200241.59064008 171436.69990847\n",
      " 164247.62518836 191736.0678418  197534.64179631 269774.64405314\n",
      " 167881.35275523 197647.22572541 162054.67983721 213027.55038668\n",
      " 200206.67208756 218435.40738906 139429.32126705 196492.36633207\n",
      " 121841.01401084 194111.19257511 159055.87989531 164511.00620277\n",
      " 174922.14772984 211069.31896602 239784.25015352 210986.53329186\n",
      " 163051.06598329 180811.11411374 183915.64307088 156088.03740685\n",
      " 167468.5518167  145881.7956335  174142.44112554 192705.61458837\n",
      " 194105.7866279  155288.41674465 174389.54382386 206157.75647348\n",
      " 169321.59430267 196710.6849487  200000.29602982 168104.88890985\n",
      " 218760.3329292  232539.39127411 210332.89906429 176149.16061642\n",
      " 200685.92007982 188908.74730512 164480.47088283 193268.24048884\n",
      " 158172.22673153 166853.91190499 181183.64906133 168693.05049199\n",
      " 154583.20554521 184292.50218016 177456.50455734 194064.19288405\n",
      " 152846.44347079 272428.18836739 186500.46761087 170650.26002815\n",
      " 184718.37577686 145413.69841    148122.15395353 185421.41571074\n",
      " 161504.84490756 166923.54614405 193366.83722694 124947.15103567\n",
      " 200314.20131455 167156.16802228 158533.1255104  220055.72712474\n",
      " 209773.49073029 198030.96748283 170366.40557519 184133.71771951\n",
      " 181100.94515954 144756.09626844 140498.77834741 161419.94407472\n",
      " 121682.20928644 221353.01553433 196703.57036142 157665.29317556\n",
      " 176508.17733936 151804.81345935 215850.10308928 201151.58171714\n",
      " 111475.88869997 229564.12343259 182160.3388957  162000.10836889\n",
      " 156620.60680147 150542.05287672 179078.08891296 239585.27150893\n",
      " 194990.18547182 123910.31710177 190905.7811222  198676.79433876\n",
      " 143803.92561786 165548.48301347 235557.51123781 205517.06666358\n",
      " 211683.89773006 149816.99313903 269228.38615704 151240.77299246\n",
      " 172183.26397804 177086.9954786  154239.04707795 166751.89783803\n",
      " 198950.2579413  163849.38304329 126156.64570977 260832.74058752\n",
      " 208448.93896678 158226.24434613 185032.70789437 192445.62066033\n",
      " 172227.2541815  198657.67197632 168498.16724354 179938.82651898\n",
      " 231013.90786091 210913.74481769 211311.17027156 186532.74134312\n",
      " 164222.18140963 182641.15493172 206745.17376535 150326.80898588\n",
      " 149047.86283549 168052.02431315 193761.4009507  193696.61700307\n",
      " 185948.00032873 233665.41788285 263420.87017606 180693.18370624\n",
      " 159277.58966825 122091.69869294 199271.06006797 181340.45515271\n",
      " 212048.11354354 165866.2855184  191632.81718686 158025.33805747\n",
      " 179361.3310954  194836.20509088 148923.61395641 207999.10463248\n",
      " 207174.26140397 185324.14746984 152438.96340215 194696.61914344\n",
      " 196687.33960589 163205.44496706 152174.34487489 200803.17422957\n",
      " 198592.51287088 163173.83805866 197253.05644656 210034.26832771\n",
      " 157888.41974578 203531.98413763 231212.41150303 159323.6516441\n",
      " 190373.78320752 168956.4688083  176885.10643269 206355.62873702\n",
      " 164728.18250281 185404.52338908 158901.69425476 176987.42959983\n",
      " 204410.12100617 167645.88315565 154534.15044835 195552.56643388\n",
      " 176259.96835318 196688.71527927 136483.77714938 102352.81054639\n",
      " 166162.70508404 152674.07958604 144925.27820943 205606.31362431\n",
      " 174981.14930809 226110.41702858 113451.03295774 204290.27920976\n",
      " 173431.84528621 156459.79287135 153228.562821   150494.35175645\n",
      " 173265.62301592 180937.3340845  156389.62265376 198088.64434995\n",
      " 230246.51357702 148816.72648529 138735.44223875 163439.48784888\n",
      " 158842.8646204  207246.08726578 205027.2286181  168955.53921331\n",
      " 161441.5738752  158671.08518358 213426.44392053 192097.47480507\n",
      " 176396.81111719 196422.73799711 191854.08035826 137355.81196429\n",
      " 177306.45534301 146721.67766631 217741.5617187  199889.29394373\n",
      " 213911.36383267 186515.01909076 149569.47583842 165033.80589876\n",
      " 180146.97868925 161889.47953045 164874.90654544 151270.66042866\n",
      " 167545.57896328 250743.16652163 148695.28631927 234891.3165249\n",
      " 216431.05040058 200562.61999519 195231.96731973 206065.8063255\n",
      " 173022.41566823 111072.46934915 193980.62081098 202943.65066694\n",
      " 161911.08600578 174875.92920229 221153.60449055 151904.41123742\n",
      " 301689.28226962 108180.3470496  156020.28398245 117225.30304441\n",
      " 176992.84500763 160666.35464232 151066.18215859 166976.23914086\n",
      " 136510.46580689 216695.62550443 236899.89332442 155409.41083846\n",
      " 152470.41406174 162278.56021954 159798.09625117 230896.24632403\n",
      " 113121.79780061 182451.02204504 161488.49407987 137551.26422583\n",
      " 168907.55570678 195702.72083883 166009.9078907  206014.17022399\n",
      " 175301.27222123 171116.2569568  169291.54553193 197595.8701311\n",
      " 156641.2418367  233551.02428875 204911.90976578 166941.79566882\n",
      " 148391.64423913 179175.49232894 201284.13810655 147510.80865056\n",
      " 218771.43985211 123779.06999047 117611.96696546 211116.60459142\n",
      " 216479.48881876 170139.31751685 207011.41928974 180303.58762779\n",
      " 158564.19722751 210979.17720107 148670.15579202 175321.08670848\n",
      " 166850.43865392 213156.39854843 193933.656667   163741.08391372\n",
      " 189642.75007494 189757.15381075 119927.51810016 181744.99312807\n",
      " 165148.5099616  144395.9469846  197191.21869141 220114.84438401\n",
      " 213840.28636327 194087.79327433 111173.44481866 161409.75435233\n",
      " 154471.81907706 128389.9795081  169080.38792648 157282.18610095\n",
      " 240596.81235238 162208.38719088 121405.85921334 164044.68837141\n",
      " 153798.5184721  245677.05584345 186647.05261952 262661.94448072\n",
      " 260617.99470202 208558.00524505 174249.43523773 153266.67623883\n",
      " 185511.81562457 113773.24853113 239230.20289473 197247.91580576\n",
      " 152041.27303239 203666.47934984 174633.13242823 170843.24848228\n",
      " 160800.7670602  180525.90049915 162651.3938201  525252.4149716\n",
      " 200548.42446447 158295.5782266  169953.40546717 170551.06788229\n",
      " 215960.70987158 172917.19555806 150810.70266005 208838.62960302\n",
      " 182341.52520939 199224.85550102 161986.91142441 149541.94529172\n",
      " 151962.14923655 245160.12016885 149319.18280496 181262.08234201\n",
      " 200510.29626049 221064.73965468 235010.1244209  198688.46952816\n",
      " 200612.45867452 158022.38717128 161369.78045638 179927.56188814\n",
      " 169482.30413305 191176.72331182 144203.66293239 234583.17967425\n",
      " 145727.30570852 167094.29007606 152400.05491833 191077.19188572\n",
      " 148897.72914143 194378.18661267 159416.19293299 177903.85316178\n",
      " 163258.26869041 193112.3653632  211243.7699781  167726.42581949\n",
      " 194773.74010039 194747.5105368  177690.38142956 194391.08936688\n",
      " 151244.50716003 156467.02436833 163190.72085536]\n",
      "595     319000.00000\n",
      "2059    180921.19589\n",
      "902     180000.00000\n",
      "2837    180921.19589\n",
      "1846    180921.19589\n",
      "            ...     \n",
      "1047    145000.00000\n",
      "2541    180921.19589\n",
      "1592    180921.19589\n",
      "571     120000.00000\n",
      "1757    180921.19589\n",
      "Name: SalePrice, Length: 583, dtype: float64\n"
     ]
    }
   ],
   "source": [
    "y_predict=LiRe.predict(x_test)\n",
    "print(y_predict)\n",
    "print(y_test)"
   ]
  },
  {
   "cell_type": "code",
   "execution_count": null,
   "id": "5e8532d6",
   "metadata": {},
   "outputs": [],
   "source": []
  }
 ],
 "metadata": {
  "kernelspec": {
   "display_name": "Python 3 (ipykernel)",
   "language": "python",
   "name": "python3"
  },
  "language_info": {
   "codemirror_mode": {
    "name": "ipython",
    "version": 3
   },
   "file_extension": ".py",
   "mimetype": "text/x-python",
   "name": "python",
   "nbconvert_exporter": "python",
   "pygments_lexer": "ipython3",
   "version": "3.9.12"
  }
 },
 "nbformat": 4,
 "nbformat_minor": 5
}
